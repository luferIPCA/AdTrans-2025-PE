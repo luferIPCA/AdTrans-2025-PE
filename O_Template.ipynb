{
  "cells": [
    {
      "cell_type": "markdown",
      "metadata": {
        "id": "view-in-github",
        "colab_type": "text"
      },
      "source": [
        "<a href=\"https://colab.research.google.com/github/luferIPCA/AdTrans-2025-PE/blob/main/O_Template.ipynb\" target=\"_parent\"><img src=\"https://colab.research.google.com/assets/colab-badge.svg\" alt=\"Open In Colab\"/></a>"
      ]
    },
    {
      "cell_type": "markdown",
      "metadata": {
        "id": "c1kf9qddTM4D"
      },
      "source": [
        "# Python Essential\n",
        "### AdTrans project, 2023-1-PL01-KA220-HED-000158917\n",
        "\n",
        "(June 2025 - IPCA)\n",
        "\n",
        "Notebooks for the course\n",
        "\n",
        "by [*lufer*](mailto:lufer@ipca.pt)\n",
        "\n",
        "(ver 1.0)\n",
        "\n",
        "---"
      ]
    },
    {
      "cell_type": "markdown",
      "metadata": {
        "id": "3yc6mD0jVeWN"
      },
      "source": [
        "# Part I - XXX\n",
        "\n",
        "Description\n",
        "\n",
        "*  xxxx\n",
        "*  yyy.\n",
        "\n",
        "\n",
        "**Contents**:\n",
        "\n",
        "0. **One**\n",
        "1. **Two**\n",
        "\n",
        "\n",
        "\n"
      ]
    },
    {
      "cell_type": "markdown",
      "source": [
        "## References"
      ],
      "metadata": {
        "id": "IE9klG4UxYAX"
      }
    },
    {
      "cell_type": "markdown",
      "source": [
        "\n",
        "*   Free Python Courses by Cisco -\n",
        "https://www.netacad.com/learning-collections/python\n",
        "\n",
        "\n"
      ],
      "metadata": {
        "id": "BWyAtUzXxbhq"
      }
    },
    {
      "cell_type": "markdown",
      "source": [
        "End!"
      ],
      "metadata": {
        "id": "e0KXkMsh9i9r"
      }
    }
  ],
  "metadata": {
    "colab": {
      "provenance": [],
      "toc_visible": true,
      "include_colab_link": true
    },
    "kernelspec": {
      "display_name": "Python 3",
      "name": "python3"
    },
    "language_info": {
      "name": "python"
    }
  },
  "nbformat": 4,
  "nbformat_minor": 0
}