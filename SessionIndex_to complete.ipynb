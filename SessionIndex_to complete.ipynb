{
  "nbformat": 4,
  "nbformat_minor": 0,
  "metadata": {
    "colab": {
      "provenance": [],
      "mount_file_id": "11hZnlC90sLQvLBWL1SinNxyqV1WlftOS",
      "authorship_tag": "ABX9TyPMSqP141vay/qltp+f3WMQ",
      "include_colab_link": true
    },
    "kernelspec": {
      "name": "python3",
      "display_name": "Python 3"
    },
    "language_info": {
      "name": "python"
    }
  },
  "cells": [
    {
      "cell_type": "markdown",
      "metadata": {
        "id": "view-in-github",
        "colab_type": "text"
      },
      "source": [
        "<a href=\"https://colab.research.google.com/github/luferIPCA/AdTrans-2025-PE/blob/main/SessionIndex.ipynb\" target=\"_parent\"><img src=\"https://colab.research.google.com/assets/colab-badge.svg\" alt=\"Open In Colab\"/></a>"
      ]
    },
    {
      "cell_type": "markdown",
      "source": [
        "# Python Essential\n",
        "### AdTrans project, 2023-1-PL01-KA220-HED-000158917\n",
        "\n",
        "Notebooks for the course\n",
        "\n",
        "by [*lufer*](mailto:lufer@ipca.pt)\n",
        "\n",
        "(ver 1.0)\n",
        "\n",
        "---"
      ],
      "metadata": {
        "id": "FaVdgiUHOJJX"
      }
    },
    {
      "cell_type": "markdown",
      "source": [
        "# Sessions\n",
        "\n"
      ],
      "metadata": {
        "id": "6rBgqQMsOTKk"
      }
    },
    {
      "cell_type": "markdown",
      "source": [
        "\n",
        "## Session 1\n",
        ">Notebook: [1_Environment_Essential.ipynb](https://github.com/luferIPCA/AdTrans-2025-PE/blob/main/SessionIndex.ipynb)\n",
        "\n",
        "\n",
        "Contents:\n",
        "\n",
        "1. Environment preparation\n",
        "2. GitHub\n",
        "3. Jupyter Notebooks\n",
        "2. Clean Code\n"
      ],
      "metadata": {
        "id": "glu4Xbl04ObK"
      }
    },
    {
      "cell_type": "markdown",
      "source": [
        "## Session 2\n",
        ">Notebook: [linName](https//local)\n",
        "\n",
        "Contents:\n",
        "\n"
      ],
      "metadata": {
        "id": "te2FKdpj4JzP"
      }
    },
    {
      "cell_type": "code",
      "execution_count": null,
      "metadata": {
        "id": "eqC9nwoON9kp"
      },
      "outputs": [],
      "source": []
    }
  ]
}